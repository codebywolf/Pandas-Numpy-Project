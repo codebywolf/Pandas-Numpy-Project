{
 "cells": [
  {
   "cell_type": "markdown",
   "id": "0312375d-1966-4b05-8e7d-0adf4831dad3",
   "metadata": {},
   "source": [
    "## 📊 E-commerce Sales Analysis Overview\n",
    "\n",
    "In this project, I explored a fictional e-commerce dataset using Pandas & NumPy to extract valuable business insights.\n",
    "\n",
    "### 🔍 Analysis Breakdown:\n",
    "\n",
    "1. 💰 **Total Revenue Generated**  \n",
    "   Calculated the overall revenue from all orders.\n",
    "\n",
    "2. 🏆 **Top 5 Best-Selling Products**  \n",
    "   Identified the products with the highest number of units sold.\n",
    "\n",
    "3. 🌆 **Which City Generated Most Orders**  \n",
    "   Found the city with the highest number of total orders placed.\n",
    "\n",
    "4. 📅 **Monthly Revenue Trend** *(using `.groupby()`)*  \n",
    "   Aggregated revenue month-wise to observe time-based sales trends.\n",
    "\n",
    "5. 📦 **Average Order Value**  \n",
    "   Measured the mean value of all orders placed.\n",
    "\n",
    "6. 🔁 **Number of Repeat Customers**  \n",
    "   Counted customers who placed more than one order.\n",
    "\n",
    "7. 📚 **Top Categories by Profit**  \n",
    "   Analyzed which product categories generated the most revenue.\n"
   ]
  },
  {
   "cell_type": "code",
   "execution_count": 3,
   "id": "8ff07e3d-f010-4228-be98-faf0b679119b",
   "metadata": {},
   "outputs": [],
   "source": [
    "import pandas as pd\n",
    "import numpy as np"
   ]
  },
  {
   "cell_type": "code",
   "execution_count": 4,
   "id": "781986c9-21f3-47ae-9552-861b94802b0f",
   "metadata": {},
   "outputs": [
    {
     "data": {
      "text/html": [
       "<div>\n",
       "<style scoped>\n",
       "    .dataframe tbody tr th:only-of-type {\n",
       "        vertical-align: middle;\n",
       "    }\n",
       "\n",
       "    .dataframe tbody tr th {\n",
       "        vertical-align: top;\n",
       "    }\n",
       "\n",
       "    .dataframe thead th {\n",
       "        text-align: right;\n",
       "    }\n",
       "</style>\n",
       "<table border=\"1\" class=\"dataframe\">\n",
       "  <thead>\n",
       "    <tr style=\"text-align: right;\">\n",
       "      <th></th>\n",
       "      <th>OrderID</th>\n",
       "      <th>CustomerID</th>\n",
       "      <th>Product</th>\n",
       "      <th>Category</th>\n",
       "      <th>Price</th>\n",
       "      <th>Quantity</th>\n",
       "      <th>Total</th>\n",
       "      <th>City</th>\n",
       "      <th>Date</th>\n",
       "    </tr>\n",
       "  </thead>\n",
       "  <tbody>\n",
       "    <tr>\n",
       "      <th>0</th>\n",
       "      <td>101</td>\n",
       "      <td>C041</td>\n",
       "      <td>T-Shirt</td>\n",
       "      <td>Fashion</td>\n",
       "      <td>12249</td>\n",
       "      <td>3</td>\n",
       "      <td>36747</td>\n",
       "      <td>Mumbai</td>\n",
       "      <td>25-04-2023</td>\n",
       "    </tr>\n",
       "    <tr>\n",
       "      <th>1</th>\n",
       "      <td>102</td>\n",
       "      <td>C009</td>\n",
       "      <td>Puzzle</td>\n",
       "      <td>Toys</td>\n",
       "      <td>11187</td>\n",
       "      <td>5</td>\n",
       "      <td>55935</td>\n",
       "      <td>Delhi</td>\n",
       "      <td>30-10-2023</td>\n",
       "    </tr>\n",
       "    <tr>\n",
       "      <th>2</th>\n",
       "      <td>103</td>\n",
       "      <td>C028</td>\n",
       "      <td>T-Shirt</td>\n",
       "      <td>Fashion</td>\n",
       "      <td>1635</td>\n",
       "      <td>2</td>\n",
       "      <td>3270</td>\n",
       "      <td>Mumbai</td>\n",
       "      <td>16-09-2023</td>\n",
       "    </tr>\n",
       "    <tr>\n",
       "      <th>3</th>\n",
       "      <td>104</td>\n",
       "      <td>C039</td>\n",
       "      <td>Jacket</td>\n",
       "      <td>Fashion</td>\n",
       "      <td>3357</td>\n",
       "      <td>5</td>\n",
       "      <td>16785</td>\n",
       "      <td>Hyderabad</td>\n",
       "      <td>23-04-2023</td>\n",
       "    </tr>\n",
       "    <tr>\n",
       "      <th>4</th>\n",
       "      <td>105</td>\n",
       "      <td>C029</td>\n",
       "      <td>Comics</td>\n",
       "      <td>Books</td>\n",
       "      <td>13361</td>\n",
       "      <td>1</td>\n",
       "      <td>13361</td>\n",
       "      <td>Mumbai</td>\n",
       "      <td>24-12-2023</td>\n",
       "    </tr>\n",
       "  </tbody>\n",
       "</table>\n",
       "</div>"
      ],
      "text/plain": [
       "   OrderID CustomerID  Product Category  Price  Quantity  Total       City  \\\n",
       "0      101       C041  T-Shirt  Fashion  12249         3  36747     Mumbai   \n",
       "1      102       C009   Puzzle     Toys  11187         5  55935      Delhi   \n",
       "2      103       C028  T-Shirt  Fashion   1635         2   3270     Mumbai   \n",
       "3      104       C039   Jacket  Fashion   3357         5  16785  Hyderabad   \n",
       "4      105       C029   Comics    Books  13361         1  13361     Mumbai   \n",
       "\n",
       "         Date  \n",
       "0  25-04-2023  \n",
       "1  30-10-2023  \n",
       "2  16-09-2023  \n",
       "3  23-04-2023  \n",
       "4  24-12-2023  "
      ]
     },
     "execution_count": 4,
     "metadata": {},
     "output_type": "execute_result"
    }
   ],
   "source": [
    "df = pd.read_csv(\"ecommerce_sales_data.csv\")\n",
    "df.head()"
   ]
  },
  {
   "cell_type": "code",
   "execution_count": 5,
   "id": "c005aa52-35b6-4c74-8ff3-0a4231a09313",
   "metadata": {},
   "outputs": [
    {
     "name": "stdout",
     "output_type": "stream",
     "text": [
      "<class 'pandas.core.frame.DataFrame'>\n",
      "RangeIndex: 100 entries, 0 to 99\n",
      "Data columns (total 9 columns):\n",
      " #   Column      Non-Null Count  Dtype \n",
      "---  ------      --------------  ----- \n",
      " 0   OrderID     100 non-null    int64 \n",
      " 1   CustomerID  100 non-null    object\n",
      " 2   Product     100 non-null    object\n",
      " 3   Category    100 non-null    object\n",
      " 4   Price       100 non-null    int64 \n",
      " 5   Quantity    100 non-null    int64 \n",
      " 6   Total       100 non-null    int64 \n",
      " 7   City        100 non-null    object\n",
      " 8   Date        100 non-null    object\n",
      "dtypes: int64(4), object(5)\n",
      "memory usage: 7.2+ KB\n"
     ]
    }
   ],
   "source": [
    "#Checking basic information \n",
    "df.info()"
   ]
  },
  {
   "cell_type": "code",
   "execution_count": 6,
   "id": "b33cfbb0-0292-4d26-b209-9f12c55589c1",
   "metadata": {},
   "outputs": [
    {
     "data": {
      "text/plain": [
       "OrderID       0\n",
       "CustomerID    0\n",
       "Product       0\n",
       "Category      0\n",
       "Price         0\n",
       "Quantity      0\n",
       "Total         0\n",
       "City          0\n",
       "Date          0\n",
       "dtype: int64"
      ]
     },
     "execution_count": 6,
     "metadata": {},
     "output_type": "execute_result"
    }
   ],
   "source": [
    "# Checking If null value exist\n",
    "df.isnull().sum()"
   ]
  },
  {
   "cell_type": "code",
   "execution_count": 7,
   "id": "65d99a89-9649-40fd-a190-176c13ee71f3",
   "metadata": {},
   "outputs": [
    {
     "name": "stdout",
     "output_type": "stream",
     "text": [
      "Total revanue is ₹1986870\n"
     ]
    }
   ],
   "source": [
    "# Total Revenue Generated\n",
    "total_revenue = df[\"Total\"].sum()\n",
    "print(f\"Total revanue is ₹{total_revenue}\")"
   ]
  },
  {
   "cell_type": "code",
   "execution_count": 8,
   "id": "8039135b-04a8-46fa-8080-04c2b937856c",
   "metadata": {},
   "outputs": [
    {
     "name": "stdout",
     "output_type": "stream",
     "text": [
      "These are the top 5 selling products \n",
      "Product\n",
      "Board Game    34\n",
      "T-Shirt       33\n",
      "Jeans         20\n",
      "Headphones    18\n",
      "Novel         17\n",
      "Name: Quantity, dtype: int64\n"
     ]
    }
   ],
   "source": [
    "# Top 5 Best-Selling Products\n",
    "top_products = df.groupby('Product')['Quantity'].sum().sort_values(ascending=False).head(5)\n",
    "print(f\"These are the top 5 selling products \\n{top_products}\")"
   ]
  },
  {
   "cell_type": "code",
   "execution_count": 9,
   "id": "5fa90e5c-9dff-4d8a-92ee-381e0e6e0f93",
   "metadata": {},
   "outputs": [
    {
     "name": "stdout",
     "output_type": "stream",
     "text": [
      "City with Most Orders: Bangalore (22 orders)\n"
     ]
    }
   ],
   "source": [
    "# Which City Generated Most Orders\n",
    "top_city = df['City'].value_counts().idxmax()\n",
    "num_orders_top_city = df['City'].value_counts().max()\n",
    "\n",
    "print(f\"City with Most Orders: {top_city} ({num_orders_top_city} orders)\")"
   ]
  },
  {
   "cell_type": "code",
   "execution_count": 10,
   "id": "9fbe99a2-dfa7-4fd1-bab1-aadb09874e19",
   "metadata": {},
   "outputs": [
    {
     "name": "stdout",
     "output_type": "stream",
     "text": [
      "Month wise revenue:\n",
      "YearMonth\n",
      "2023-01     97663\n",
      "2023-02    154045\n",
      "2023-03    190342\n",
      "2023-04    125564\n",
      "2023-05    128738\n",
      "2023-06    183411\n",
      "2023-07     98528\n",
      "2023-08    209384\n",
      "2023-09    256545\n",
      "2023-10    209999\n",
      "2023-11    151473\n",
      "2023-12    181178\n",
      "Freq: M, Name: Total, dtype: int64\n"
     ]
    }
   ],
   "source": [
    "# Monthly Revenue Trend (using .groupby)\n",
    "df['Date'] = pd.to_datetime(df['Date'], dayfirst=True)\n",
    "df['YearMonth'] = df['Date'].dt.to_period('M')\n",
    "monthly_revenue = (\n",
    "    df.groupby('YearMonth')['Total'].sum().sort_index()\n",
    ")\n",
    "\n",
    "print(f\"Month wise revenue:\\n{monthly_revenue}\")"
   ]
  },
  {
   "cell_type": "code",
   "execution_count": 11,
   "id": "e65fa256-c64a-4971-bfb0-0cc12e67a95f",
   "metadata": {},
   "outputs": [
    {
     "name": "stdout",
     "output_type": "stream",
     "text": [
      "Average value of Order are: ₹7096.45\n"
     ]
    }
   ],
   "source": [
    "# Average Order Value\n",
    "avg_order_value = df['Price'].mean()\n",
    "print(f\"Average value of Order are: ₹{avg_order_value}\")"
   ]
  },
  {
   "cell_type": "code",
   "execution_count": 12,
   "id": "0abb207c-4467-479d-a7e7-1725856af244",
   "metadata": {},
   "outputs": [
    {
     "name": "stdout",
     "output_type": "stream",
     "text": [
      "Repeated Customers: 24\n"
     ]
    }
   ],
   "source": [
    "# Number of Repeat Customers\n",
    "repeated_customers_count = df['CustomerID'].value_counts()\n",
    "total_repeated_customers = (repeated_customers_count > 1).sum()\n",
    "\n",
    "print(f\"Repeated Customers: {total_repeated_customers}\")"
   ]
  },
  {
   "cell_type": "code",
   "execution_count": 13,
   "id": "38baecfc-9305-4c5e-8b2f-f9dc6f24bb91",
   "metadata": {},
   "outputs": [
    {
     "name": "stdout",
     "output_type": "stream",
     "text": [
      "Revenue by Category:\n",
      "Category\n",
      "Fashion        522498\n",
      "Toys           443144\n",
      "Electronics    300675\n",
      "Home           284322\n",
      "Books          221364\n",
      "Beauty         214867\n",
      "Name: Total, dtype: int64\n"
     ]
    }
   ],
   "source": [
    "# Top Categories by Profit\n",
    "top_profitable_categories = df.groupby('Category')['Total'].sum().sort_values(ascending=False)\n",
    "print(f\"Revenue by Category:\\n{top_profitable_categories}\")"
   ]
  }
 ],
 "metadata": {
  "kernelspec": {
   "display_name": "Python [conda env:base] *",
   "language": "python",
   "name": "conda-base-py"
  },
  "language_info": {
   "codemirror_mode": {
    "name": "ipython",
    "version": 3
   },
   "file_extension": ".py",
   "mimetype": "text/x-python",
   "name": "python",
   "nbconvert_exporter": "python",
   "pygments_lexer": "ipython3",
   "version": "3.12.7"
  }
 },
 "nbformat": 4,
 "nbformat_minor": 5
}
